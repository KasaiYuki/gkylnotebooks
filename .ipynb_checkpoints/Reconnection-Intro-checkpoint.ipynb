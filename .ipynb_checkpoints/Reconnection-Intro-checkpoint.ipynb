{
 "cells": [
  {
   "cell_type": "markdown",
   "id": "d33b9604-ce43-4534-88e1-49ccd9d55256",
   "metadata": {},
   "source": [
    "# Motivation\n",
    "In this module we will discuss current computational methods to modeling magnetic reconnection. This is motivated by the fact that many students studying this field are poorly taught the computational skills needed to succeed in this field. From more broad skills like using Git version control and plotting in Python, to more narrow knowledge of magnetohydrodynamic equations, we will aim to properly introduce these vital skills to students, taking care to cater to various levels of prior knowledge.\n",
    "(**figures demonstrating high performance computing**)\n"
   ]
  },
  {
   "cell_type": "markdown",
   "id": "126a4410-3dd4-4339-80c8-8fa236e8b28c",
   "metadata": {},
   "source": [
    "# Background\n",
    "## Understanding Magnetic Reconnection\n",
    "Magnetic Reconnection is a process when the magnetic topology is rearranged in the presence of a plasma. This causes a burst of energy in the form of heat, kinetic energy for electrons and ions, large scale plasma flow. When this occurs, the magnetic field lines snap and connect with the other field lines (*see the gif below*). Magnetic field linesare frozen into the plasma. Since plasma is a highly conductive material and field lines have inherent tension, (reconnection is intutitive due to tension, nontrivial since ideal plasmas cant reconnect) \n",
    "<figure>\n",
    "<img src=\"./Reconnection.gif\" style=\"width:50%\">\n",
    "<figcaption align = \"center\"> Source: By ChamouJacoN - Own work, Public Domain, https://commons.wikimedia.org/w/index.php?curid=7496329 </figcaption>\n",
    "</figure>\n",
    "\n",
    "\n",
    "## How does magnetic reconnection occur\n",
    "Magnetic reconnection occurs with a pair of oppositely directed magnetic field lines. It occurs when the system experiences high heat levels of heat. A common example of this are coronal mass ejections and when the solar wind impacts Earth's magnetosphere.\n",
    "## How do we model magnetic reconnection?\n",
    "(start with ideal ohms law, frozen in theorem, nonideal plasma cause reconnection\n",
    "We start with the generalized Ohm's Law $$E+u\\times B=\\eta J+\\frac{J\\times B}{n|e|}-\\frac{\\nabla \\cdot P_e}{n|e|}\\times [\\frac{\\partial J}{\\partial t}+\\nabla \\cdot (uJ+Ju-\\frac{JJ}{n|e|})]$$, where the left hand side comes from the ideal Ohm's Law, the first term on the right hand side is known as the resistive dissipation term. The $J\\times B$ term is called the hall term, and $P_e$ is known as the pressure tensor (**EXPAND**). The last portion of the equation is derived from electron inertia.\n",
    "In this computational demo we will start with the 5 moment simulation, which symplifies the pressure tensor down to a scalar. This is Eulers equations where the force is lorentz force (write eulers equations with general force, F=E+(VxB) which is 0 in an ideal plasma. In generalized ohms law, there are other terms, called nonideal terms, that cause reconnection) Then we will expand the tensor out and compute the 10 moment simulation. Normally, only including the resistive dissipation term causes reconnection to occur far too slowly to only be attributed to the physics. Instead at that rate, the numerics of the simulation cause reconnection. This can be explored in the Apendix.\n",
    "### 5 moment models\n",
    "As mentioned before, 5 moment models simplify the pressure tensor down to a scalar. The 5 moment model is in fact a generalization of the Hall-MHD model (taking Ohm's law until the hall term) which can be found from the 5 moment model by approximating the speed of light to be infinite. By simplifying the pressure tensor, the 5 moment model is significantly easier to run, but can be an inaccurate model outside of the reconnection zone.\n"
   ]
  },
  {
   "cell_type": "markdown",
   "id": "f1027392-c25b-4530-b1fa-a3359f429438",
   "metadata": {
    "jp-MarkdownHeadingCollapsed": true,
    "tags": []
   },
   "source": [
    "# Setup Procedure - Windows\n",
    "## Install WSL 2 \n",
    "- follow directions on https://gkeyll.readthedocs.io/en/latest/install.html#note-on-the-windows-linux-subsystem-wsl (Ubuntu installation preferred, the following instructions may not work on other distributions)\n",
    "- If installing CUDA, use https://docs.nvidia.com/cuda/wsl-user-guide/index.html#cuda-support-for-wsl2\n",
    "- Install common libraries with ```sudo apt install build-essential```\n",
    "- Run ```sudo apt update```, ```sudo apt upgrade``` and ```sudo apt autoremove```\n",
    "## Install Conda \n",
    "- (Recommended) If you want to run Jupyter Lab in WSL 2 on your local machine's browser, install a conda distribution if you do not have one\n",
    "    - Either install Miniconda (lightweight, easier installation) or Anaconda (far more packages, useful if you also need more features for other applications)\n",
    "        - Miniconda: first download the installer with the command ```wget https://repo.anaconda.com/miniconda/Miniconda3-latest-Linux-x86_64.sh```. Then run ```sudo chmod +x Miniconda3-latest-Linux-x86_64.sh```. After the executable is finished, run ```./Miniconda3-latest-Linux-x86_64.sh``` and follow the prompts. When you have installed Miniconda correctly, jump to [Install Jupyter Lab](##-Install-Jupyter-Lab) below.\n",
    "        - Anaconda: follow https://docs.anaconda.com/anaconda/install/linux/ up to step 9 and jump to [Install Jupyter Lab](##-Install-Jupyter-Lab) below.\n",
    "- If you want to install the standalone application, follow directions on https://github.com/jupyterlab/jupyterlab-desktop#download, then jump to \"Add WSL 2 terminal in JL\"\n",
    "## Install Jupyter Lab\n",
    "- First, either open a new terminal or run ```source ~/.bashrc```, then activate conda with ```conda activate``` \n",
    "- Then update conda with,\n",
    "```bash\n",
    "conda update conda\n",
    "conda update --all\n",
    "```\n",
    "- (Recommended) Create a new conda virtual environment with `conda create --name [NAME]` with a name of your choice. If you choose to do this, you must also run `conda activate [NAME]` with the same name as before if you want to use anything you will install in the next steps. If you create the virtual environment correctly, you should see **(NAME)** text before the terminal prompt. (**ADD IMAGE**)\n",
    "- Then install Jupyter Lab and dependencies with \n",
    "```bash\n",
    "conda install matplotlib jupyter jupyterlab pip git\n",
    "conda install -c conda-forge jupyter_contrib_nbextensions\n",
    "conda update conda\n",
    "conda update --all\n",
    "```\n",
    "- Then launch Jupyter Lab by entering `jupyter lab --no-browser` in the terminal, and copying one of the URLs listed at the end of the output into a browser on your *local* machine. (**ADD IMAGE OF JL**)\n"
   ]
  },
  {
   "cell_type": "markdown",
   "id": "fc0f56d3-9ee6-496a-9dea-ac69338a2646",
   "metadata": {},
   "source": [
    "# Setup Procedure - Macos\n",
    "## Install GkeyllZero"
   ]
  },
  {
   "cell_type": "markdown",
   "id": "beec565e-b88c-437b-a409-a2a382ad43e3",
   "metadata": {},
   "source": [
    "### Add WSL 2 terminal in JL\n",
    "Run ```jupyter-lab --generate-config```\n",
    "Open generated file and add \n",
    "```c.NotebookApp.terminado_settings = {\n",
    "    'shell_command': ['C:\\\\Users\\\\d3mon\\\\AppData\\\\Local\\\\Microsoft\\\\WindowsApps\\\\ubuntu.exe']\n",
    "}``` to the end (change path) and restart JL"
   ]
  },
  {
   "cell_type": "markdown",
   "id": "ffa16227-64ff-4570-a2bf-7defb4ce160c",
   "metadata": {},
   "source": [
    "## Install JL in WSL2\n",
    "https://towardsdatascience.com/configuring-jupyter-notebook-in-windows-subsystem-linux-wsl2-c757893e9d69"
   ]
  },
  {
   "cell_type": "markdown",
   "id": "d46f3c9e-a79e-42f9-ac3f-19e2de18488e",
   "metadata": {
    "tags": []
   },
   "source": [
    "## Using Git Version Control"
   ]
  },
  {
   "cell_type": "markdown",
   "id": "9d71268f-b294-4e78-bb2a-c62fce02f48a",
   "metadata": {},
   "source": [
    "## Cloning and setting up GkeyllZero\n",
    "- Follow instructions on https://github.com/ammarhakim/gkylzero\n",
    "- Make sure that you can run configure with CUDA if installed\n",
    "- Test installation with ```lua_gem_g0.lua``` file"
   ]
  },
  {
   "cell_type": "code",
   "execution_count": null,
   "id": "3ae00c7e-dcc7-4ed8-96bb-6650dcd753b0",
   "metadata": {},
   "outputs": [],
   "source": []
  }
 ],
 "metadata": {
  "kernelspec": {
   "display_name": "Python 3 (ipykernel)",
   "language": "python",
   "name": "python3"
  },
  "language_info": {
   "codemirror_mode": {
    "name": "ipython",
    "version": 3
   },
   "file_extension": ".py",
   "mimetype": "text/x-python",
   "name": "python",
   "nbconvert_exporter": "python",
   "pygments_lexer": "ipython3",
   "version": "3.8.13"
  }
 },
 "nbformat": 4,
 "nbformat_minor": 5
}
