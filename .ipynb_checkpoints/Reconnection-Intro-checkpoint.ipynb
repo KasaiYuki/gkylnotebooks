{
 "cells": [
  {
   "cell_type": "markdown",
   "id": "d33b9604-ce43-4534-88e1-49ccd9d55256",
   "metadata": {
    "jp-MarkdownHeadingCollapsed": true,
    "tags": []
   },
   "source": [
    "# Motivation\n",
    "In this module we will discuss current computational methods to modeling magnetic reconnection. This is motivated by the fact that many students studying this field are poorly taught the computational skills needed to succeed in this field. From more broad skills like using Git version control and plotting in Python, to more narrow knowledge of magnetohydrodynamic equations, we will aim to properly introduce these vital skills to students, taking care to cater to various levels of prior knowledge.\n",
    "(**figures demonstrating high performance computing**)\n"
   ]
  },
  {
   "cell_type": "markdown",
   "id": "d0f55757-2a8d-4e1d-9842-397f676fc275",
   "metadata": {},
   "source": [
    "# Background\n",
    "## An overview of magnetic reconnection\n",
    "Magnetic reconnection is a process when the magnetic topology is rearranged in the presence of a plasma. This causes a burst of energy in the form of heat, kinetic energy for electrons and ions, large scale plasma flow. When this occurs, the magnetic field lines snap and connect with the other field lines (*see the gif below*). Magnetic reconnection occurs with a pair of oppositel directed (antiparallel) magnetic field lines in a system that experiences high heat levels. Common examples of this are coronal mass ejections and when the solar wind impacts the Earth's magnetosphere. Zooming out a bit, magnetic field lines have inherent tension, which act to straighten out magnetic field lines. When reconnection occurs, this force acts towards the center of curvature and pushes the plasma out, similar to a slingshot. (**discuss tension more**)\n",
    "<figure>\n",
    "<img src=\"./Reconnection.gif\" style=\"width:50%\">\n",
    "<figcaption align = \"center\"> Source: By ChamouJacoN - Own work, Public Domain, https://commons.wikimedia.org/w/index.php?curid=7496329 </figcaption>\n",
    "</figure>"
   ]
  },
  {
   "cell_type": "markdown",
   "id": "126a4410-3dd4-4339-80c8-8fa236e8b28c",
   "metadata": {
    "jp-MarkdownHeadingCollapsed": true,
    "tags": []
   },
   "source": [
    "## A deeper dive into magnetic reconnection\n",
    "We first start with the ideal Ohms Law equation for ideal non-resistive magnetohydrodynamic models $$ E+u\\times B=0 $$ which describe systems that follow the frozen in theorem. The theorem states that without any resistivity in a fluid, the magnetic field is frozen in to said fluid. In a plasma this means that the magnetic field lines move with the plasma. Furthermore, the field will not change when moving along with the field lines, but motions transverse to the field carry the field with the motion. When we introduce resistivity, Ohm's Law transforms into $$ E+u\\times B=\\eta J $$ where $\\eta$ is the magnetic diffusivity, and the system no longer follows the frozen in theorem. This means that the magnetic field lines are no longer frozen to the plasma and can reconnect. \n",
    "\n",
    "We can derive the frozen-in theorem by taking Ohm's Law and applying it to Faraday's Law, getting $$ \\frac{\\partial B}{\\partial t} = \\nabla \\times (V \\times B) - c\\nabla \\times (\\eta J) $$ since the current density J is proportional to $\\nabla\\times B$ through Ampere's Law, we arrive at $$ \\frac{\\partial B}{\\partial t} = \\nabla \\times (V \\times B) + c\\eta (\\nabla^2 J) $$ after some simplifications, namely using the curl of a curl identity and that $\\nabla \\cdot B=0$ since there are no magnetic monopoles.\n",
    "\n",
    "Since $ \\eta = \\frac{1}{\\mu_0 \\sigma} $, where $\\mu_0$ is the permiability of free space as $\\sigma$ is the electrical conductivity, when we look no resistivity/infinite conductivity, the $\\eta$ term in the above equation (**give reference**) falls out and we are left with the induction equation.\n",
    "\n",
    "With the induction equation $$ \\frac{\\partial B}{\\partial t} = \\nabla \\times (V \\times B) $$ we use $ \\Phi = \\int_s{B \\cdot dS}$ to get $$ \\frac{\\mathrm{d}\\Phi}{\\mathrm{d}t}=\\frac{\\mathrm{d}}{\\mathrm{d}t}\\int_s{B \\cdot dS}$$ \n",
    "The two ways the magnetic flux can change is through a change in the magnetic field strength $\\frac{\\partial B}{\\partial t}$ or a movement in the surface we integrate over. We can substitute the induction equation in for the first term and get $$ \\int_s{\\nabla\\times(v\\times B)\\cdot ds}+\\int_s{B\\cdot (v\\times d\\ell)} $$ The second term arises from movement on the surface of integration. We can use Stokes' Theorem and the vector identity $ (A\\times B)\\cdot C = -B\\cdot (A\\times C) $ to get $$ \\int_c{v\\times B\\cdot d\\ell}-\\int_c{(v\\times B)\\cdot d\\ell} = 0 $$ \n",
    "Thus, we find that $\\frac{d}{dt}\\int_s{B\\cdot ds}=0$, proving the frozen in theorem when we have no resistivity."
   ]
  },
  {
   "cell_type": "markdown",
   "id": "712081fe-5534-4136-87a1-aed1f9f8f692",
   "metadata": {
    "tags": []
   },
   "source": [
    "## Modeling magnetic reconnection\n",
    "In order to talk about the models we must find all the physical properties to consider when generating a model and any approximations. First we start with the electron momentum equation for the ith component of the electric field $$ m\\frac{\\partial nu_i}{\\partial t}+\\frac{\\partial \\mathcal{P}_{ij}}{\\partial x_j} = nq(E_i+\\epsilon{_{ijk}}u_jB_k) $$ our goal is to end up with the generalized Ohm's Law equation which will play a key role in the future. In order to get there, we rearrange the electron momentum equation to get $E_i=\\frac{m}{nq}\\frac{\\partial nu_i}{\\partial t}+\\frac{\\partial \\mathcal{P}_{ij}}{\\partial x_j}-\\epsilon{_{ijk}}u_jB_k$ and simplify the $\\epsilon$ term. Feel free to read up on Einstein notation, but for this demo we will cover the nessessary translations. The u in the term is electron flow, so we can subsitute in $$ u_e=-\\frac{J}{q_sn_s}+u_i$$ where J is current density and $u_i$ is ion flow. With this information we get $$-\\epsilon{_{ijk}}u_jB_k=-u\\times B=(\\frac{J}{q_sn_s}-u_i)\\times B=\\frac{J\\times B}{q_sn_s}-u_i\\times B$$\n",
    "\n",
    "For the $\\mathcal{P}$ (stress tensor) term, we need to find the divergence over the j index, since $\\frac{\\partial \\mathcal{P}_{ij}}{\\partial x_j}=\\nabla\\cdot\\mathcal{P}$ (**fix notation if needed**). We can substitute in the equation of the tensor involving reynolds stress $$\\mathcal{P}_{ij}=P_{ij}+\\rho u_iu_j$$ where $u_iu_j=\\sum_j{u_iu_j}$ for $i,j=\\{x,y,z\\}$. Now we are left with $$E_i+u_i\\times B=\\frac{J\\times B}{nq}+\\frac{1}{nq}\\frac{\\partial nmu_i}{\\partial t}+\\frac{\\nabla\\cdot P}{nq}+\\frac{\\nabla\\cdot nmu_iu_j}{nq}$$ \n",
    "\n",
    "We can combine the time derivative of momentum and divergence of Reynolds stress using product rule, so $$\\frac{\\partial nmu_i}{\\partial t}=nm\\frac{\\partial u_i}{\\partial t} + u_i\\frac{\\partial nm}{\\partial t}$$ $$\\nabla\\cdot (nmu_iu_j) = u_i\\nabla\\cdot(nmu_j)+nmu_j\\cdot\\nabla u_i$$ Resulting in $$nm(\\frac{\\partial u_i}{\\partial t}+u_i\\cdot\\nabla u_j)+u_i(\\frac{\\partial nm}{\\partial t}+\\nabla\\cdot (nmu_j))=nm(\\frac{\\partial u_i}{\\partial t}+u_i\\cdot\\nabla u_j)$$ since the second term equals 0 due to mass conservation $\\frac{\\partial\\rho}{\\partial t}+\\nabla\\cdot (\\rho u) = 0$. \n",
    "Now we can switch back to vector notation to look at the electric field as a whole and plug in our new expression for the electron inertia contribution, arriving at $$ E+u\\times B=\\eta J+\\frac{J\\times B}{nq}-\\frac{\\nabla \\cdot P_e}{nq}+\\frac{m}{q}[(\\frac{\\partial u_e}{\\partial t}+u_e\\cdot\\nabla u_e)] $$\n",
    "\n",
    "\n",
    " where the left hand side comes from the ideal MHD, the $\\eta J$ term is known as the resistive dissipation term. The $J\\times B$ term is called the hall term, and $P_e$ is known as the pressure tensor (**EXPAND**).\n",
    "\n",
    "In this computational demo we will start with the 5 moment simulation, which symplifies the pressure tensor down to a scalar. This is Eulers equations where the force is lorentz force (write eulers equations with general force, F=E+(VxB) which is 0 in an ideal plasma. In generalized ohms law, there are other terms, called nonideal terms, that cause reconnection) Then we will expand the tensor out and compute the 10 moment simulation. Normally, only including the resistive dissipation term causes reconnection to occur far too slowly to only be attributed to the physics. Instead at that rate, the numerics of the simulation cause reconnection. This can be explored in the Apendix.\n",
    "\n",
    "### 5 moment models\n",
    "As mentioned before, 5 moment models simplify the pressure tensor down to a scalar. The 5 moment model is in fact a generalization of the Hall-MHD model (taking Ohm's law until the hall term) which can be found from the 5 moment model by approximating the speed of light to be infinite. By simplifying the pressure tensor, the 5 moment model is significantly easier to run, but can be an inaccurate model outside of the reconnection zone.\n"
   ]
  },
  {
   "cell_type": "markdown",
   "id": "f1027392-c25b-4530-b1fa-a3359f429438",
   "metadata": {
    "jp-MarkdownHeadingCollapsed": true,
    "tags": []
   },
   "source": [
    "# Setup Procedure - Windows\n",
    "## Install WSL 2 \n",
    "- follow directions on https://gkeyll.readthedocs.io/en/latest/install.html#note-on-the-windows-linux-subsystem-wsl (Ubuntu installation preferred, the following instructions may not work on other distributions)\n",
    "- If installing CUDA, use https://docs.nvidia.com/cuda/wsl-user-guide/index.html#cuda-support-for-wsl2\n",
    "- Install common libraries with ```sudo apt install build-essential```\n",
    "- Run \n",
    "```bash\n",
    "sudo apt update\n",
    "sudo apt upgrade\n",
    "sudo apt autoremove\n",
    "```\n",
    "- When using Gkeyll and Jupyter Lab in the future, open the ubuntu application from windows, or type \"wsl\" in another terminal application\n",
    "    - Using windows terminal to do both of these is recommended for tabs, themes and easy configuration\n",
    "\n",
    "## Install Conda \n",
    "- (Recommended) If you want to run Jupyter Lab in WSL 2 on your local machine's browser, install a conda distribution if you do not have one\n",
    "    - Either install Miniconda (lightweight, easier installation) or Anaconda (far more packages, useful if you also need more features for other applications)\n",
    "        - Miniconda: first download the installer with the command \n",
    "        ```bash\n",
    "        wget https://repo.anaconda.com/miniconda/Miniconda3-latest-Linux-x86_64.sh\n",
    "        sudo chmod +x Miniconda3-latest-Linux-x86_64.sh\n",
    "        ./Miniconda3-latest-Linux-x86_64.sh\n",
    "        ``` \n",
    "        and follow the prompts. When you have installed Miniconda correctly, jump to [Install Jupyter Lab](##-Install-Jupyter-Lab) below.\n",
    "        - Anaconda: follow https://docs.anaconda.com/anaconda/install/linux/ up to step 9 and jump to [Install Jupyter Lab](##-Install-Jupyter-Lab) below.\n",
    "- If you want to install the standalone application, follow directions on https://github.com/jupyterlab/jupyterlab-desktop#download, then jump to \"Add WSL 2 terminal in JL\"\n",
    "\n",
    "## Install Jupyter Lab\n",
    "- First, either open a new terminal or run ```source ~/.bashrc```, then activate conda with ```conda activate``` \n",
    "- Then update conda with,\n",
    "```bash\n",
    "conda update conda\n",
    "conda update --all\n",
    "```\n",
    "- (Recommended) Create a new conda virtual environment with `conda create --name [NAME]` with a name of your choice. If you choose to do this, you must also run `conda activate [NAME]` with the same name as before if you want to use anything you will install in the next steps. If you create the virtual environment correctly, you should see **(NAME)** text before the terminal prompt. (**ADD IMAGE**)\n",
    "- Then install Jupyter Lab and dependencies with \n",
    "```bash\n",
    "conda install matplotlib jupyter jupyterlab pip git\n",
    "conda install -c conda-forge jupyter_contrib_nbextensions\n",
    "conda update conda\n",
    "conda update --all\n",
    "```\n",
    "- Then launch Jupyter Lab by entering `jupyter lab --no-browser` in the terminal, and copying one of the URLs listed at the end of the output into a browser on your *local* machine. (**ADD IMAGE OF JL**)\n",
    "\n",
    "## Installing and compiling GkeyllZero\n",
    "- In the folder you want the repository to be in (for best performance use something in /home/USER_NAME/..., **NOT** /mnt/...) type `git clone https://github.com/ammarhakim/gkylzero.git`\n",
    "- Then, install the two main dependencies that G0 needs: cmake and gfortran\n",
    "    - cmake: follow instructions in https://apt.kitware.com/ and after run `sudo apt install cmake`\n",
    "    - gfortran: run `sudo apt install gfortran`\n",
    "- Follow instructions in the G0 README file at https://github.com/ammarhakim/gkylzero, starting from the \"Building on your machine\" section\n",
    "\n",
    "## Installing Postgkyl\n",
    "- Follow the instructions at https://gkeyll.readthedocs.io/en/latest/install.html#installing-with-conda-preferred-for-non-developers, make sure that you are in the same conda environment you used previously (**add Note section to troubleshooting**)\n",
    "- When using WSL 2 on Windows 10, by default GUI is not supported. In order to be able to view the pgkyl output plots, install VcXrv (recommended), or Xming if not possible. Follow the instructions at https://gkeyll.readthedocs.io/en/latest/install.html#additional-steps-required-on-windows-10\n",
    "    - Whenever you need the GUI in the future, open XLaunch first and disable access control, the XLaunch icon should appear in the icon tray\n",
    "\n",
    "## Installing Luajit\n",
    "- Normally, GkeyllZero uses C code to run the simulations, but in this module we will be using lua wrappers for the sake of more efficiently teaching the process. In order to run lua scripts we need to install Luajit.\n",
    "    - First clone the fully featured Gkeyll version 2 on your machine (WSL if using windows) by entering `git clone https://github.com/ammarhakim/gkyl`\n",
    "    - Navigate to `gkyl/install-deps` and enter `./mkdeps.sh --build-adios=no --build-luajit=yes --build-eigen=no`\n",
    "        - This will install only luajit on your machine\n",
    "    - Once the installation is done, remove the Gkeyll 2 cloned repository either through a file explorer or by typing `rm -r /path/to/directory` (for example `rm -r /gkyl` from a default WSL home directory). **WARNING:** make sure the path is correct or you may delete another folder unintentionally.\n",
    "- (Recommended) create an alias/shortcut to use luajit without typing the full path to the executable. This can be done on the bash prompt by editing the .bashrc file (type `vim ~/.bashrc` or use another editor). \n",
    "    - In the file, add the line `alias run_lua='~/gkylsoft/luajit/bin/luajit'` if you installed luajit to the default directory. Now, whenever you need to run a lua script, just type `run_lua file.lua`, instead of the full path."
   ]
  },
  {
   "cell_type": "markdown",
   "id": "fc0f56d3-9ee6-496a-9dea-ac69338a2646",
   "metadata": {
    "tags": []
   },
   "source": [
    "# Setup Procedure - Macos\n",
    "## Install GkeyllZero\n"
   ]
  },
  {
   "cell_type": "markdown",
   "id": "57546477-cbaf-4d6f-9fec-f63b56d971ca",
   "metadata": {},
   "source": [
    "# Running a 5 moment model\n",
    "We will first start by going through a brief demo of running simulations and viewing outputs. In the 5 moment folder of this repository is a premade lua script to run a 5 moment simulation.\n",
    "- Navigate to this folder and use the luajit alias to run the simulation: `run_lua rt-5m-gem.lua` for example.\n",
    "- After the simulation is done, you will see in the terminal (**add terminal image**) and new output files will appear in the folder.\n",
    "# Plotting Initial Conditions\n",
    "The output of the fluid models will have multiple sets of files based on the lua instructions, each with a different file name ending (and then a number). The file used in this demo outputs the electron fluid moments end in \"elc\", ion fluid moments end in \"ion\" (**documentation typo**), and electromagnetic field files end in \"field\". The number after the suffix corresponds to the frame the file contains. The number of frames is also determined by a variable in the input file called `nFrame`. First we will start by plotting the initial conditions (files ending in \"0\") using postgkyl. \n",
    "- First make sure you are in the correct conda environment(and if using WSL, that XLaunch is open)\n",
    "- In that folder, type \n",
    "```bash\n",
    "pgkyl rt-5m-gem-elc_0.gkyl rt-5m-gem-field_0.gkyl rt-5m-gem-ion_0.gkyl select -c 3 plot --fix-aspect -f0 --subplots\n",
    "```\n",
    "    - The `select -c 3` flag outputs only the z axis plots, while `-f0 --subplots` collates all three plots into multiple subplots, instead of 3 different windows.\n",
    "    - Explore the pgkyl documentation at https://gkeyll.readthedocs.io/en/latest/postgkyl/main.html and experiment with different plots\n",
    "(**Emphasize why these initial conditions are unstable to magnetic reconnection**)\n",
    "Now that we briefly showed how to view output through the command line, lets take a look at creating python scripts to do the postprocessing."
   ]
  },
  {
   "cell_type": "markdown",
   "id": "beec565e-b88c-437b-a409-a2a382ad43e3",
   "metadata": {},
   "source": [
    "### Add WSL 2 terminal in JL\n",
    "Run ```jupyter-lab --generate-config```\n",
    "Open generated file and add \n",
    "```c.NotebookApp.terminado_settings = {\n",
    "    'shell_command': ['C:\\\\Users\\\\d3mon\\\\AppData\\\\Local\\\\Microsoft\\\\WindowsApps\\\\ubuntu.exe']\n",
    "}``` to the end (change path) and restart JL"
   ]
  },
  {
   "cell_type": "markdown",
   "id": "a72d8c0e-75cb-49b6-ac83-4d6b5ec388ab",
   "metadata": {},
   "source": [
    "## Install JL in WSL2\n",
    "https://towardsdatascience.com/configuring-jupyter-notebook-in-windows-subsystem-linux-wsl2-c757893e9d69"
   ]
  },
  {
   "cell_type": "code",
   "execution_count": null,
   "id": "3ae00c7e-dcc7-4ed8-96bb-6650dcd753b0",
   "metadata": {},
   "outputs": [],
   "source": []
  }
 ],
 "metadata": {
  "kernelspec": {
   "display_name": "Python 3 (ipykernel)",
   "language": "python",
   "name": "python3"
  },
  "language_info": {
   "codemirror_mode": {
    "name": "ipython",
    "version": 3
   },
   "file_extension": ".py",
   "mimetype": "text/x-python",
   "name": "python",
   "nbconvert_exporter": "python",
   "pygments_lexer": "ipython3",
   "version": "3.8.13"
  }
 },
 "nbformat": 4,
 "nbformat_minor": 5
}
