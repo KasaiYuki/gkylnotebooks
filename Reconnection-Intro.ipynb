{
 "cells": [
  {
   "cell_type": "markdown",
   "id": "d33b9604-ce43-4534-88e1-49ccd9d55256",
   "metadata": {
    "jp-MarkdownHeadingCollapsed": true,
    "tags": []
   },
   "source": [
    "<div hidden>\n",
    "\\newcommand{\\require}[1]{}\n",
    "\n",
    "$\\require{begingroup}\\require{newcommand}$\n",
    "$$\n",
    "   \\gdef\\RR{{\\bf R}}\n",
    "   \\gdef\\us{{\\bf u_s}}\n",
    "   \\gdef\\ue{{\\bf u_e}}\n",
    "   \\gdef\\ui{{\\bf u_i}}\n",
    "   \\gdef\\II{{\\bf I}}\n",
    "   \\gdef\\EE{{\\bf E}}\n",
    "   \\gdef\\BB{{\\bf B}}\n",
    "   \\gdef\\VV{{\\bf V}}\n",
    "   \\gdef\\JJ{{\\bf J}}\n",
    "   \\gdef\\PT{{{\\overleftrightarrow{\\bf P}}}_e}\n",
    "   \\newcommand{\\p[2]}{\\frac{\\partial #1}{\\partial #2}}\n",
    "$$\n",
    "\n",
    "</div>\n",
    "\n",
    "# Motivation\n",
    "In this module we will discuss current computational methods to modeling plasmas. In particular, we will simulate an ubiquitous phenomena in laboratory, space, and astrophysical plasmas called magnetic reconnection. Additionally, in this module we will introduce a broad array of skills useful in computational physics which you may not have seen before: Git version control, shell commands, post-processing simulation data using Python. A variety of plasma models will be employed which span the space of both fidelity and computational complexity, from first-principles kinetic modeling to approximate fluid models like magnetohydrodynamics. We will aim to properly introduce these vital skills to students, taking care to cater to various levels of prior knowledge.\n",
    "(**figures demonstrating high performance computing**) \n",
    "\n",
    "The file you are viewing is called a Jupyter Notebook, it is a cell based multiplatform file that can host live code from different languages, TeX equations, multimedia and text all in one file. All of the former options can be run in a cell with SHIFT+ENTER. If you have joined here from the Github README, go to the setup procedure for your respective operating system - [Windows](#Setup-Procedure---Windows) or [macOS](#Setup-Procedure---macOS). If you are using the former, the procedure will take you through creating a linux virtual machine and installing this notebook file and the rest of the folder in that virtual machine. If you are using Macos, you likely have this repository downloaded, so the setup procedure will be shorter.\n",
    "\n",
    "Jupyter Lab automatically creates a Table of contents that you can access by clicking this icon on the sidebar  <img src=\"./assets/toc.png\" style=\"width:20px\"> to navigate the notebook. Remember to look at the README file as well for a overview of the repository and files contained."
   ]
  },
  {
   "cell_type": "markdown",
   "id": "d0f55757-2a8d-4e1d-9842-397f676fc275",
   "metadata": {
    "tags": []
   },
   "source": [
    "# Background\n",
    "## An overview of magnetic reconnection\n",
    "Magnetic reconnection is a process in which the magnetic topology is rearranged in the presence of a plasma. This topological rearrangement of the field lines is a mechanism of converting magnetic field energy to other forms of energy: heat, large scale plasma flows, and accelerating particles to very high energies. It is easiest to visualize this process with a pair of oppositely directed (antiparallel) magnetic field lines in a system that experiences high heat levels. One can think of the magnetic field lines snapping and \"reconnecting\" with other field lines in complete analogy with a rubber band snapping (*see the gif below*).  Common examples of this are coronal mass ejections and when the solar wind impacts the Earth's magnetosphere. Magnetic field lines have inherent tension, which act to straighten out magnetic field lines. When reconnection occurs, this force acts towards the center of curvature and pushes the plasma out, similar to a slingshot. We will discuss the source of tension later, but first we will find out what, mathematically, causes this process.\n",
    "<figure>\n",
    "<img src=\"./assets/Reconnection.gif\" style=\"width:50%\">\n",
    "<figcaption align = \"center\"> Source: By ChamouJacoN - Own work, Public Domain, https://commons.wikimedia.org/w/index.php?curid=7496329 </figcaption>\n",
    "</figure>"
   ]
  },
  {
   "cell_type": "markdown",
   "id": "126a4410-3dd4-4339-80c8-8fa236e8b28c",
   "metadata": {
    "tags": []
   },
   "source": [
    "## A deeper dive into magnetic reconnection\n",
    "We first start with the ideal Ohms Law equation for ideal non-resistive magnetohydrodynamic models $$ \\EE+\\VV\\times\\BB=0 $$ which describe systems that follow the frozen in theorem. The theorem states that without any resistivity in a fluid, the magnetic field is frozen in to said fluid. In a plasma this means that the magnetic field lines move with the plasma. Furthermore, the field will not change when moving along with the field lines, but motions transverse to the field carry the field with the motion. \n",
    "\n",
    "We can derive the frozen-in theorem by taking Ohm's Law and applying it to Faraday's Law, getting $$ \\frac{\\partial\\BB}{\\partial t} = \\nabla \\times (\\VV \\times \\BB) - c\\nabla \\times (\\eta \\JJ) $$ since the current density J is proportional to $\\nabla\\times\\BB$ through Ampere's Law, we arrive at $$ \\frac{\\partial\\BB}{\\partial t} = \\nabla \\times (\\VV \\times \\BB) + c\\eta (\\nabla^2 \\JJ) $$ after some simplifications, namely using the curl of a curl identity and that $\\nabla \\cdot B=0$ since there are no magnetic monopoles.\n",
    "\n",
    "Since $\\eta = \\frac{1}{\\mu_0 \\sigma}$, where $\\mu_0$ is the permiability of free space as $\\sigma$ is the electrical conductivity, when we look no resistivity/infinite conductivity, the $\\eta$ term in the magnetic field equation falls out and we are left with the induction equation.\n",
    "\n",
    "With the induction equation $$ \\frac{\\partial\\BB}{\\partial t} = \\nabla \\times (\\VV\\times\\BB) $$ we use $\\Phi = \\int_s{\\BB\\cdot dS}$ to get $$ \\frac{\\mathrm{d}\\Phi}{\\mathrm{d}t}=\\frac{\\mathrm{d}}{\\mathrm{d}t}\\int_s{\\BB \\cdot dS}$$ \n",
    "The two ways the magnetic flux can change is through a change in the magnetic field strength $\\frac{\\partial B}{\\partial t}$ or a movement in the surface we integrate over. We can substitute the induction equation in for the first term and get $$ \\int_s{\\nabla\\times(\\VV\\times \\BB)\\cdot ds}+\\int_s{\\BB\\cdot (\\VV\\times d\\ell)} $$ The second term arises from movement on the surface of integration. We can use Stokes' Theorem and the vector identity $(A\\times B)\\cdot C = -B\\cdot (A\\times C)$ to get $$ \\int_c{\\VV\\times \\BB\\cdot d\\ell}-\\int_c{(\\VV\\times \\BB)\\cdot d\\ell} = 0 $$ \n",
    "Thus, we find that $\\frac{d}{dt}\\int_s{\\BB\\cdot ds}=0$, proving the frozen in theorem when we have no resistivity. \n",
    "\n",
    "When we introduce resistivity, Ohm's Law transforms into $$ \\EE+\\VV\\times \\BB=\\eta \\JJ $$ where $\\eta$ is the magnetic diffusivity, and the system no longer follows the frozen in theorem. This means that the magnetic field lines are no longer frozen to the plasma and can reconnect. "
   ]
  },
  {
   "cell_type": "markdown",
   "id": "712081fe-5534-4136-87a1-aed1f9f8f692",
   "metadata": {
    "tags": []
   },
   "source": [
    "## Modeling magnetic reconnection\n",
    "In order to talk about the models we must find all the physical properties to consider when generating a model and any approximations. First we start with the electron momentum equation for the ith component of the electric field $$ m\\frac{\\partial n\\ue}{\\partial t}+\\nabla\\cdot\\overleftrightarrow{\\mathcal P} = nq(\\EE+\\ue\\times\\BB) $$ our goal is to end up with the generalized Ohm's Law equation which will play a key role in the future. In order to get there, we rearrange the electron momentum equation to get $E=\\frac{m}{nq}\\frac{\\partial n\\ue}{\\partial t}+\\nabla\\cdot\\overleftrightarrow{\\mathcal P}-\\ue\\times\\BB$.  The u in the term is electron flow, so we can subsitute in $$ \\ue=-\\frac{\\JJ}{q_sn_s}+\\ui$$ where J is current density and $\\ui$ is ion flow. With this information we get $$-\\ue\\times\\BB=(\\frac{\\JJ}{q_sn_s}-\\ui)\\times\\BB=\\frac{\\JJ\\times \\BB}{q_sn_s}-\\ui\\times \\BB$$\n",
    "\n",
    "For the $\\overleftrightarrow{\\mathcal P}$ (stress tensor) term, we can substitute in the equation of the tensor involving reynolds stress $$\\overleftrightarrow{\\mathcal P}=\\PT+\\rho \\ue\\ue$$ Now we are left with $$E+\\ui\\times \\BB=\\frac{\\JJ\\times \\BB}{nq}+\\frac{1}{nq}\\frac{\\partial nm\\ue}{\\partial t}+\\frac{\\nabla\\cdot\\PT}{nq}+\\frac{\\nabla\\cdot nm\\ue\\ue}{nq}$$ \n",
    "\n",
    "We can combine the time derivative of momentum and divergence of Reynolds stress using product rule, so $$\\frac{\\partial nm\\ue}{\\partial t}=nm\\frac{\\partial\\ue}{\\partial t} + \\ue\\frac{\\partial nm}{\\partial t}$$ $$\\nabla\\cdot (nm\\ue\\ue) = \\ue\\nabla\\cdot(nm\\ue)+nm\\ue\\cdot\\nabla\\ue$$ Resulting in $$nm(\\frac{\\partial \\ue}{\\partial t}+\\ue\\cdot\\nabla \\ue)+\\ue(\\frac{\\partial nm}{\\partial t}+\\nabla\\cdot (nm\\ue))=nm(\\frac{\\partial \\ue}{\\partial t}+\\ue\\cdot\\nabla \\ue)$$ since the second term equals 0 due to mass conservation $\\frac{\\partial\\rho}{\\partial t}+\\nabla\\cdot (\\rho u) = 0$. \n",
    "Now we can switch back to vector notation to look at the electric field as a whole and plug in our new expression for the electron inertia contribution, arriving at $$ \\EE+\\ui\\times \\BB=\\eta \\JJ+\\frac{\\JJ\\times \\BB}{nq}-\\frac{\\nabla \\cdot \\PT}{nq}+\\frac{m}{q}[(\\frac{\\partial \\ue}{\\partial t}+\\ue\\cdot\\nabla\\ue)] $$\n",
    "where the left hand side comes from the ideal MHD, the $\\eta J$, $J\\times B$, and $P_e$ terms are known as the resistive dissipation, hall and the pressure tensor terms, respectively.\n",
    "(**Expand on tension**)\n",
    "### 5 moment models\n",
    "In this computational demo we will start with the 5 moment simulation, which symplifies the pressure tensor down to a scalar. This is Eulers equations shown below, where the force is Lorentz force $$ \\frac{\\partial\\rho}{\\partial t}+\\nabla\\cdot (\\rho\\us) = 0 $$ \n",
    "$$ \\frac{\\partial\\rho\\us}{\\partial t}+\\nabla\\cdot (\\rho\\us\\us+p_s\\II) = q_sn_s (\\EE+\\us\\times\\BB)$$ \n",
    "$$ \\frac{\\partial\\mathcal{E}_s}{\\partial t}+\\nabla\\cdot([\\mathcal{E}_s+p]\\us)=q_sn_s\\us\\cdot\\EE $$ \n",
    "$$ \\mathcal{E}_s=\\frac{1}{2}\\rho_s|\\us|^2+\\frac{p_s}{\\gamma-1} $$ \n",
    "These equations represent the conservation of mass, momentum and energy, respectively, where the total energy is $\\mathcal{E}_s$ and the adiabatic index of an ideal fluid $\\gamma$ is 5/3 for hydrogen plasma. \n",
    "Then we will expand the tensor out and compute the 10 moment simulation. Normally, only including the resistive dissipation term causes reconnection to occur far too slowly to only be attributed to the physics. But the hall term and the divergence of the pressure tensor causes the simulations to reconnect much more faster, closer to real life phenomenon. The hall term alone causes the reconnection rate to be comparable to the Alfvén speed, while \"at small values of resistivity the dissipation region forms an elongated Sweet-Parker layer and the rate of reconnection is very low, with an inflow velocity $v_i$ into the X line which scales like $v_i=\\frac{\\delta}{\\Delta}v_A<<v_A$, where $\\delta$ and $\\Delta$ are the width (controlled by resistivity) and length (macroscopic) of the dissipation region, respectively, and $v_A$ is the Alfven velocity\" [Birn et al., 2001] as illustrated by the GEM reconnection challenge results.\n",
    "\n",
    "As mentioned before, 5 moment models simplify the pressure tensor down to a scalar. The 5 moment model is in fact a generalization of the Hall-MHD model (taking Ohm's law until the hall term) which can be found from the 5 moment model by approximating the speed of light to be infinite. By simplifying the pressure tensor, the 5 moment model is significantly easier to run, but can be an inaccurate model outside of the reconnection zone.\n"
   ]
  },
  {
   "cell_type": "markdown",
   "id": "f1027392-c25b-4530-b1fa-a3359f429438",
   "metadata": {
    "tags": []
   },
   "source": [
    "# Setup Procedure - Windows\n",
    "## Install WSL 2 \n",
    "- follow directions on https://gkeyll.readthedocs.io/en/latest/install.html#note-on-the-windows-linux-subsystem-wsl (Ubuntu installation preferred, the following instructions may not work on other distributions)\n",
    "- If installing CUDA, use https://docs.nvidia.com/cuda/wsl-user-guide/index.html#cuda-support-for-wsl2\n",
    "- Install common libraries with ```sudo apt install build-essential```\n",
    "- Run \n",
    "```bash\n",
    "sudo apt update\n",
    "sudo apt upgrade\n",
    "sudo apt autoremove\n",
    "```\n",
    "- When using Gkeyll and Jupyter Lab in the future, open the ubuntu application from windows, or type \"ubuntu\" in another terminal application\n",
    "    - Using windows terminal to do both of these is recommended for tabs, themes and easy configuration\n",
    "\n",
    "## Install Conda \n",
    "- (Recommended) If you want to run Jupyter Lab in WSL 2 on your local machine's browser, install a conda distribution if you do not have one\n",
    "    - Either install Miniconda (lightweight, easier installation) or Anaconda (far more packages, useful if you also need more features for other applications)\n",
    "        - Miniconda: first download the installer with the command \n",
    "        ```bash\n",
    "        wget https://repo.anaconda.com/miniconda/Miniconda3-latest-Linux-x86_64.sh\n",
    "        sudo chmod +x Miniconda3-latest-Linux-x86_64.sh\n",
    "        ./Miniconda3-latest-Linux-x86_64.sh\n",
    "        ``` \n",
    "        and follow the prompts. When you have installed Miniconda correctly, jump to [Install Jupyter Lab](##Install-Jupyter-Lab) below.\n",
    "        - Anaconda: follow https://docs.anaconda.com/anaconda/install/linux/ up to step 9 and jump to [Install Jupyter Lab](##Install-Jupyter-Lab) below.\n",
    "- If you want to install the standalone application, follow directions on https://github.com/jupyterlab/jupyterlab-desktop#download, then jump to \"Add WSL 2 terminal in JL\"\n"
   ]
  },
  {
   "cell_type": "markdown",
   "id": "f1c713a7-5690-43a8-8f9d-430561c82e39",
   "metadata": {},
   "source": [
    "## Install Jupyter Lab\n",
    "- First, either open a new terminal or run ```source ~/.bashrc```, then activate conda with ```conda activate``` \n",
    "- Then update conda with,\n",
    "```bash\n",
    "conda update conda\n",
    "conda update --all\n",
    "```\n",
    "- Create a new conda virtual environment with `conda create --name [NAME] python=3.8` with a name of your choice. If you choose to do this, you must also run `conda activate [NAME]` with the same name as before if you want to use anything you will install in the next steps. If you create the virtual environment correctly, you should see **[NAME]** text before the terminal prompt like this <img src=\"./assets/conda.png\" style=\"width:20%\"> Avoid using a newer python version than 3.8 due to compatability issues.\n",
    "- Then install Jupyter Lab and dependencies with \n",
    "```bash\n",
    "conda install matplotlib jupyter jupyterlab pip git\n",
    "conda install -c conda-forge jupyter_contrib_nbextensions\n",
    "conda update --all\n",
    "```\n",
    "- Clone this repository on your machine with `git clone https://github.com/KasaiYuki/gkylnotebooks.git`\n",
    "- Then launch Jupyter Lab by entering `jupyter lab --no-browser` in the terminal, and copying one of the URLs listed at the end of the output into a browser on your *local* machine, and navigate to the \"gkylnotebooks\" folder and open this file. It will look something like this.  \n",
    "<figure>\n",
    "<img src=\"./assets/JL-Example.png\" style=\"width:100%\">\n",
    "<figcaption align = \"center\"> Example appearance </figcaption>\n",
    "</figure>\n",
    "This is the recommended layout, with the notebook and terminal open side by side since not everything can be done directly on the notebook. Now that we have this notebook on the virtual machine, we run the rest of the commands from within the notebook. Any cell that starts with \"%%bash\" or a line that starts with \"!\" indicates shell commands similar to the ones that let you install packages before. Run these commands as usual, or if you prefer, copy them into a terminal of your choice (without those characters).\n"
   ]
  },
  {
   "cell_type": "markdown",
   "id": "9c62c368-7b9b-4370-9612-9ad035cf1e9e",
   "metadata": {},
   "source": [
    "## Installing and compiling GkeyllZero\n",
    "- Clone GkeyllZero the folder you want the repository to be in using the command below (for best performance use something in /home/USER_NAME/..., **NOT** /mnt/...) "
   ]
  },
  {
   "cell_type": "code",
   "execution_count": null,
   "id": "27152bdc-9dba-480e-9095-ca060eb56660",
   "metadata": {
    "scrolled": true,
    "tags": []
   },
   "outputs": [],
   "source": [
    "!git clone https://github.com/ammarhakim/gkylzero.git"
   ]
  },
  {
   "cell_type": "markdown",
   "id": "c63dd52b-4e2a-49f2-aeb5-ecc37e2c6ed8",
   "metadata": {
    "tags": []
   },
   "source": [
    "- Then, install the two main dependencies that G0 needs: cmake and gfortran\n",
    "    - cmake: follow instructions in https://apt.kitware.com/ and after run the command below`\n",
    "    - gfortran: if you don't have gfortran installed with \"build-essential\", run `sudo apt install gfortran`\n",
    "- Navigate to the gkylzero directory and follow instructions in the G0 README file at https://github.com/ammarhakim/gkylzero, starting from the \"Building on your machine\" section\n",
    "\n",
    "## Installing Postgkyl\n",
    "- Follow the instructions at https://gkeyll.readthedocs.io/en/latest/install.html#installing-with-conda-preferred-for-non-developers, make sure that you are in the same conda environment you used previously\n",
    "- When using WSL 2 on Windows 10, by default GUI is not supported. In order to be able to view the pgkyl output plots, install VcXrv (recommended), or Xming if not possible. Follow the instructions at https://gkeyll.readthedocs.io/en/latest/install.html#additional-steps-required-on-windows-10\n",
    "    - Then, install xterm on WSL by entering `sudo apt install xterm`\n",
    "    - Whenever you need the GUI in the future, open XLaunch first and disable access control, the XLaunch icon should appear in the icon tray\n",
    "\n",
    "## Installing Luajit\n",
    "- Normally, GkeyllZero uses C code to run the simulations, but in this module we will be using lua wrappers for the sake of more efficiently teaching the process. In order to run lua scripts we need to install Luajit.\n",
    "    - First clone the fully featured Gkeyll version 2 on your machine (WSL if using windows), then run the make dependencies shell file and configure to install only luajit"
   ]
  },
  {
   "cell_type": "code",
   "execution_count": null,
   "id": "1087039a-dad2-4718-a838-a41cbc8cb965",
   "metadata": {
    "scrolled": true,
    "tags": []
   },
   "outputs": [],
   "source": [
    "import os\n",
    "%cd /home/kasaiyuki # Edit path to home directory\n",
    "!ls\n",
    "!git clone https://github.com/ammarhakim/gkyl # Clone the repository in the home directory\n",
    "os.chdir('/home/kasaiyuki/gkyl/install-deps') # Edit path to the 'install-deps' folder\n",
    "!ls\n",
    "!./mkdeps.sh --build-adios=no --build-luajit=yes --build-eigen=no # Install only the Luajit package"
   ]
  },
  {
   "cell_type": "markdown",
   "id": "cbdf69b3-c963-4493-a343-9fb577629fea",
   "metadata": {},
   "source": [
    "- Now we need to add the Gkeyll lua files to the PATH.  For WSL users, can be done on the bash prompt by editing the .bashrc file (click on \"view\" on the top tool bar, then click \"show hidden items\" and find the file in the file browser), and adding `export LUA_PATH=\"$HOME/gkylsoft/gkylzero/lib/?.lua;;` towards the end of the file. A similar method can be done on different shells as well.\n",
    "- (Recommended) create an alias/shortcut to use luajit without typing the full path to the executable.\n",
    "    - In the .bashrc file, add the line `alias run_lua='~/gkylsoft/luajit/bin/luajit'` if you installed luajit to the default directory. \n",
    "- Then, restart the terminal with `source ~/.bashrc`. Now, whenever you need to run a lua script, just type `run_lua file.lua`, instead of the full path."
   ]
  },
  {
   "cell_type": "markdown",
   "id": "fc0f56d3-9ee6-496a-9dea-ac69338a2646",
   "metadata": {
    "tags": []
   },
   "source": [
    "# Setup Procedure - macOS"
   ]
  },
  {
   "cell_type": "markdown",
   "id": "25f97db1-a024-4ffa-83a1-aa31de0f5187",
   "metadata": {},
   "source": []
  },
  {
   "cell_type": "markdown",
   "id": "f0655f41-fb63-4585-8405-cbb5e5fa71e5",
   "metadata": {},
   "source": [
    "# Running a 5 moment model\n",
    "We will first start by going through a brief demo of running simulations and viewing outputs. In the 5 moment folder of this repository is a premade lua script to run a 5 moment simulation.\n",
    "- Navigate to this folder and use the luajit alias to run the simulation below: `run_lua rt-5m-gem.lua` for example."
   ]
  },
  {
   "cell_type": "code",
   "execution_count": null,
   "id": "8af261f5-6a71-401d-bc8f-f4e14ada503a",
   "metadata": {},
   "outputs": [],
   "source": [
    "%cd /home/kasaiyuki/gkylnotebooks/5-moment\n",
    "!~/gkylsoft/luajit/bin/luajit rt-5m-gem.lua"
   ]
  },
  {
   "cell_type": "markdown",
   "id": "57546477-cbaf-4d6f-9fec-f63b56d971ca",
   "metadata": {
    "tags": []
   },
   "source": [
    "- After the simulation is done, you will see in the terminal (**add terminal image**) and new output files will appear in the folder.\n",
    "# Plotting Initial Conditions\n",
    "The output of the fluid models will have multiple sets of files based on the lua instructions, each with a different file name ending (and then a number). The file used in this demo outputs the electron fluid moments end in \"elc\", ion fluid moments end in \"ion\", and electromagnetic field files end in \"field\". The number after the suffix corresponds to the frame the file contains. The number of frames is also determined by a variable in the input file called `nFrame`. First we will start by plotting the initial conditions (files ending in \"0\") using postgkyl. \n",
    "- First make sure you are in the correct conda environment(and if using WSL, that XLaunch is open)\n",
    "- In that folder, type \n",
    "```bash\n",
    "pgkyl rt-5m-gem-field_0.gkyl rt-5m-gem-elc_0.gkyl rt-5m-gem-ion_0.g\n",
    "kyl select -c 3 plot --fix-aspect -f0 --subplots\n",
    "```\n",
    "    - The `select -c 3` flag outputs only the z axis plots, while `-f0 --subplots` collates all three plots into multiple subplots, instead of 3 different windows.\n",
    "    - Explore the pgkyl documentation at https://gkeyll.readthedocs.io/en/latest/postgkyl/main.html and experiment with different plots"
   ]
  },
  {
   "cell_type": "code",
   "execution_count": null,
   "id": "bdf4f1ad-ae1f-4c10-880e-f070256d4c08",
   "metadata": {},
   "outputs": [],
   "source": [
    "# Used to save to a file and open inside of Jupyter, does not require XLaunch\n",
    "%cd /home/kasaiyuki/gkylnotebooks/5-moment\n",
    "!pgkyl rt-5m-gem-field_0.gkyl rt-5m-gem-elc_0.gkyl rt-5m-gem-ion_0.gkyl select -c 3 plot --fix-aspect -f0 --subplots --saveas '5m-init1.png'"
   ]
  },
  {
   "cell_type": "markdown",
   "id": "039fd0ec-e00b-4a95-a170-905d268e52b3",
   "metadata": {},
   "source": [
    "(**Emphasize why these initial conditions are unstable to magnetic reconnection**)\n",
    "With the command above, we plotted $\\rho uz$ for the electron and ion fluid moments, and the x component of magnetic field, since that drives reconnection. Now that we briefly showed how to view output through the command line, lets take a look at creating python scripts to do the postprocessing. We will be using a tool (**Cite Jason**) called pgkylFrontEnd to do so. First, clone the repository below."
   ]
  },
  {
   "cell_type": "code",
   "execution_count": null,
   "id": "44426d9b-6b89-4ba3-924e-64c908e54c43",
   "metadata": {},
   "outputs": [],
   "source": [
    "%cd /home/USERNAME\n",
    "!git clone https://github.com/jtenbarg/pgkylFrontEnd.git\n",
    "%cd /home/USERNAME/gkylnotebooks/"
   ]
  },
  {
   "cell_type": "markdown",
   "id": "8b3bce34-9e89-411c-94a2-e60fdc616655",
   "metadata": {},
   "source": [
    "Then we import the neccessary modules and set up the file paths and variables. \n",
    "\n",
    "First, copy the data files from the 5-moment folder to pgkylFrontEnd and edit the file paths below for your situation."
   ]
  },
  {
   "cell_type": "code",
   "execution_count": null,
   "id": "c5b0f6a4-d60d-4b59-ab4f-20c367b9b182",
   "metadata": {},
   "outputs": [
    {
     "name": "stdout",
     "output_type": "stream",
     "text": [
      "/home/kasaiyuki/pgkylFrontEnd\n"
     ]
    }
   ],
   "source": [
    "import numpy as np\n",
    "# Moves the folder to look for modules in\n",
    "%cd /home/kasaiyuki/pgkylFrontEnd/ \n",
    "from utils import gkData\n",
    "import matplotlib.pyplot as plt\n",
    "# import scipy as sp\n",
    "params = {} # Initialize dictionary to store plotting and other parameters\n",
    "\n",
    "# Tested to handle g0 and g2: VM, 5M, 10M\n",
    "# Requires a _params.txt file in your data directory of the form gkeyllOutputBasename_params.txt! See example_params.txt for formatting\n",
    "\n",
    "paramsFile = '/home/kasaiyuki/pgkylFrontEnd/rt-5m-gem-params.txt'\n",
    "fileNum = 5 # Controls which frame we are plotting - 0 is the initial conditions files\n",
    "suffix = '.gkyl'\n",
    "varids = ['bx', 'n_elc', 'uz_elc', 'n_ion', 'uz_ion']\n",
    "nFrame = 5 # Number of frames used in the generating file - corresponds to number of output file sets made\n",
    "dpsi = [0] * nFrame # Created \"empty\" list\n",
    "data = []"
   ]
  },
  {
   "cell_type": "code",
   "execution_count": null,
   "id": "2c04a72c-5c8b-4c76-a4b9-770ac6ec4c90",
   "metadata": {},
   "outputs": [],
   "source": [
    "%%capture\n",
    "# discards output for this cell\n",
    "# Read files for the magnetic field\n",
    "for i in range(len(varids)):\n",
    "    varid = varids[i]\n",
    "    var = gkData.gkData(paramsFile,fileNum,suffix,varid,params)\n",
    "    var.readData()\n",
    "    data.append(var.data)\n",
    "    coords = var.coords\n",
    "    print(np.shape(data))\n"
   ]
  },
  {
   "cell_type": "code",
   "execution_count": null,
   "id": "b5f636f3-b7ba-4e36-bf25-b17f681c00cb",
   "metadata": {
    "tags": []
   },
   "outputs": [
    {
     "data": {
      "image/png": "[encoded data removed]",
      "text/plain": [
       "<Figure size 576x576 with 6 Axes>"
      ]
     },
     "metadata": {
      "needs_background": "light"
     },
     "output_type": "display_data"
    }
   ],
   "source": [
    "fig, axes = plt.subplots(nrows=3, figsize=(8, 8), constrained_layout=True, sharex=True, sharey=True)\n",
    "fig.supxlabel('Z0')\n",
    "\n",
    "# Plotting x component of magnetic field\n",
    "#im1 = axes[0].imshow(np.rot90(-1*data[0]), interpolation='none', origin='lower',\n",
    "#                     extent=[coords[0][0], coords[0][-1], coords[-1][0], coords[-1][-1]], cmap='gnuplot')\n",
    "im1 = axes[0].pcolormesh(coords[0], coords[1], np.transpose(data[0]), cmap='inferno')\n",
    "axes[0].set_ylabel(\"Z1\")\n",
    "axes[0].set_title(\"rt-5m-gem-field\")\n",
    "cbar = fig.colorbar(im1, ax=axes[0])\n",
    "\n",
    "# Plotting electron fluid moment in z axis\n",
    "im2 = axes[1].pcolormesh(coords[0], coords[1], np.transpose(data[1]*data[2]), cmap='inferno') \n",
    "axes[1].set_ylabel(\"Z1\")\n",
    "axes[1].set_title(\"rt-5m-gem-elc\")\n",
    "cbar = fig.colorbar(im2, ax=axes[1])\n",
    "\n",
    "# Plotting ion fluid moment in z axis\n",
    "mass = 25 # multiply by mass when plotting\n",
    "im3 = axes[2].pcolormesh(coords[0], coords[1], np.transpose(data[3]*data[4]*mass), cmap='inferno') \n",
    "axes[2].set_ylabel(\"Z1\")\n",
    "axes[2].set_title(\"rt-5m-gem-ion\")\n",
    "cbar = fig.colorbar(im3, ax=axes[2])\n",
    "\n",
    "plt.show()"
   ]
  },
  {
   "cell_type": "markdown",
   "id": "cb08fd17-f721-470e-b485-7b1d5818c55c",
   "metadata": {},
   "source": [
    "Note that it took us much longer to get to a similar looking plot, but we also have much more power over size, colors, titles, etc. Also, editing the code to plot different frames is as easy as changing the value of the 'nFrame' variable. Now that we have gone over an example, lets move on to plotting reconnecting fluxes in the 'fluxPlotNotebook' file. "
   ]
  },
  {
   "cell_type": "markdown",
   "id": "beec565e-b88c-437b-a409-a2a382ad43e3",
   "metadata": {
    "tags": []
   },
   "source": [
    "Add WSL 2 terminal in JL\\\n",
    "Run ```jupyter-lab --generate-config```\n",
    "Open generated file and add \n",
    "```c.NotebookApp.terminado_settings = {\n",
    "    'shell_command': ['C:\\\\Users\\\\d3mon\\\\AppData\\\\Local\\\\Microsoft\\\\WindowsApps\\\\ubuntu.exe']\n",
    "}``` to the end (change path) and restart JL"
   ]
  },
  {
   "cell_type": "markdown",
   "id": "a72d8c0e-75cb-49b6-ac83-4d6b5ec388ab",
   "metadata": {
    "jp-MarkdownHeadingCollapsed": true,
    "tags": []
   },
   "source": [
    "Install JL in WSL2\\\n",
    "https://towardsdatascience.com/configuring-jupyter-notebook-in-windows-subsystem-linux-wsl2-c757893e9d69 \\\n",
    "JL Kernels\\\n",
    "https://kegui.medium.com/how-to-add-conda-environment-to-jupyter-lab-step-by-step-431cd2c47708\n"
   ]
  },
  {
   "cell_type": "markdown",
   "id": "176fcf80-acbc-4945-ac21-c1b8d64f6d7b",
   "metadata": {
    "tags": []
   },
   "source": [
    "# Troubleshooting\n",
    "- https://stackoverflow.com/questions/66744219/jupyter-lab-networkerror-running-on-wsl2\n",
    "- If when typing xterm, you get an error similar to `xterm: Xt error: Can't open display: 192.168.128.1:0`, replace the `export display` line in the .bashrc (or equivalent) file with `export DISPLAY=$(route.exe print | grep 0.0.0.0 | head -1 | awk '{print $4}'):0.0`\n",
    "- If there seems to be no solution to any bugs and errors, try installing an older version of Ubuntu. Check your version by running `lsb_release -a` in the terminal and install an older LTS version from the Microsoft Store."
   ]
  },
  {
   "cell_type": "code",
   "execution_count": null,
   "id": "cc021cc4-aee3-44dc-94a7-2b9025611f6a",
   "metadata": {},
   "outputs": [],
   "source": [
    "!jupyter nbconvert --to html Reconnection-Intro.ipynb"
   ]
  },
  {
   "cell_type": "code",
   "execution_count": null,
   "id": "51062fc7-f606-46fe-b408-8d84cfb54c00",
   "metadata": {},
   "outputs": [],
   "source": []
  }
 ],
 "metadata": {
  "kernelspec": {
   "display_name": "Python 3 (ipykernel)",
   "language": "python",
   "name": "python3"
  },
  "language_info": {
   "codemirror_mode": {
    "name": "ipython",
    "version": 3
   },
   "file_extension": ".py",
   "mimetype": "text/x-python",
   "name": "python",
   "nbconvert_exporter": "python",
   "pygments_lexer": "ipython3",
   "version": "3.8.13"
  },
  "toc-autonumbering": true,
  "toc-showcode": false,
  "toc-showmarkdowntxt": false
 },
 "nbformat": 4,
 "nbformat_minor": 5
}
