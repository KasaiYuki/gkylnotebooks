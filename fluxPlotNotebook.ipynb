{
 "cells": [
  {
   "cell_type": "markdown",
   "id": "bd53887f-59f6-4ca6-9581-568842b2b1e4",
   "metadata": {},
   "source": [
    "# Plotting Reconnected Flux\n",
    "In this notebook, we will take what we learned from plotting individual frame and plot the reconnected flux of the model. The goal is to see how the flux changes and to compare it to other simulation schemes. This will provide a more concrete example of the differences are and what exactly fast reconnection means. With this self contained example we have a more set structure, first we have a cell to import all the packages"
   ]
  },
  {
   "cell_type": "code",
   "execution_count": 4,
   "id": "618461f3-8545-4571-b053-1b0e33dd36b5",
   "metadata": {},
   "outputs": [
    {
     "name": "stdout",
     "output_type": "stream",
     "text": [
      "/home/kasaiyuki/pgkylFrontEnd\n"
     ]
    }
   ],
   "source": [
    "import numpy as np\n",
    "%cd /home/kasaiyuki/pgkylFrontEnd/ \n",
    "from utils import gkData\n",
    "import matplotlib.pyplot as plt\n",
    "%matplotlib inline"
   ]
  },
  {
   "cell_type": "markdown",
   "id": "a5cc91e5-ae55-4eed-aa42-0c48f23d1e66",
   "metadata": {},
   "source": [
    "Then we set up the parameters and variables, then get the data from the simulation files"
   ]
  },
  {
   "cell_type": "code",
   "execution_count": 5,
   "id": "74bedfdf-2704-45bb-bad5-b4af65636f95",
   "metadata": {},
   "outputs": [],
   "source": [
    "# import scipy as sp\n",
    "params = {} # Initialize dictionary to store plotting and other parameters\n",
    "\n",
    "# Tested to handle g0 and g2: VM, 5M, 10M\n",
    "# Requires a _params.txt file in your data directory of the form gkeyllOutputBasename_params.txt! See example_params.txt for formatting\n",
    "\n",
    "paramsFile = '/home/kasaiyuki/pgkylFrontEnd/rt-5m-gem-params.txt'\n",
    "fileNum = 0\n",
    "suffix = '.gkyl'\n",
    "varid = 'psi' # See table of choices in README\n",
    "nFrame = 50 # Number of frames used in the generating file - corresponds to number of output file sets made\n",
    "dpsi = [0] * nFrame # Created \"empty\" list"
   ]
  },
  {
   "cell_type": "code",
   "execution_count": 6,
   "id": "bd719821-efbb-4cd6-bcdb-a49887cc3814",
   "metadata": {},
   "outputs": [],
   "source": [
    "%%capture \n",
    "# above \"cell magic\" command discards output for this cell\n",
    "for i in range(50):\n",
    "  var = gkData.gkData(paramsFile,fileNum,suffix,varid,params)\n",
    "  var.readData()\n",
    "  data = var.data\n",
    "  coords = var.coords\n",
    "  dx = coords[0][1]-coords[0][0]\n",
    "  # arr = data[:, len(data[0])//2] #data can be replaced by data[:, len()-1] or average of two\n",
    "  # arr =  [abs(x) for x in arr]\n",
    "  # integral.append(0.5*np.sum(arr, axis=0)*dx)\n",
    "  dpsi[i] = data[len(coords[0])//2, len(coords[1])//2] - data[-1, len(coords[1])//2]\n",
    "  fileNum += 1\n",
    "\n",
    "\n",
    "fileNum = 0"
   ]
  },
  {
   "cell_type": "markdown",
   "id": "c3147600-b11d-4508-ac15-70d83dda4cf7",
   "metadata": {},
   "source": [
    "Now we plot the results"
   ]
  },
  {
   "cell_type": "code",
   "execution_count": 7,
   "id": "e396f863-0cc9-4612-8abd-9bda72a7f139",
   "metadata": {},
   "outputs": [
    {
     "data": {
      "image/png": "[encoded data removed]",
      "text/plain": [
       "<Figure size 432x288 with 1 Axes>"
      ]
     },
     "metadata": {
      "needs_background": "light"
     },
     "output_type": "display_data"
    }
   ],
   "source": [
    "t = np.arange(0, len(dpsi))\n",
    "omega = 1 * 0.1 / 1 # (cyclotron frequency) omega = qB/m\n",
    "plt.plot(t/omega, dpsi)\n",
    "plt.ylabel('Reconnected flux $\\Delta\\psi$')\n",
    "plt.xlabel(\"t$\\omega$\")\n",
    "plt.show()"
   ]
  },
  {
   "cell_type": "code",
   "execution_count": null,
   "id": "27933cd9-4a07-407e-b89d-cc6268be385e",
   "metadata": {},
   "outputs": [],
   "source": []
  }
 ],
 "metadata": {
  "kernelspec": {
   "display_name": "Python 3 (ipykernel)",
   "language": "python",
   "name": "python3"
  },
  "language_info": {
   "codemirror_mode": {
    "name": "ipython",
    "version": 3
   },
   "file_extension": ".py",
   "mimetype": "text/x-python",
   "name": "python",
   "nbconvert_exporter": "python",
   "pygments_lexer": "ipython3",
   "version": "3.8.13"
  }
 },
 "nbformat": 4,
 "nbformat_minor": 5
}
